{
 "cells": [
  {
   "cell_type": "code",
   "execution_count": 23,
   "id": "b67fb4df",
   "metadata": {},
   "outputs": [
    {
     "name": "stdout",
     "output_type": "stream",
     "text": [
      "Looking in indexes: https://pypi.org/simple, https://pip.repos.neuron.amazonaws.com\n",
      "Collecting datasets\n",
      "  Downloading datasets-2.4.0-py3-none-any.whl (365 kB)\n",
      "\u001b[2K     \u001b[90m━━━━━━━━━━━━━━━━━━━━━━━━━━━━━━━━━━━━━━━\u001b[0m \u001b[32m365.7/365.7 KB\u001b[0m \u001b[31m6.3 MB/s\u001b[0m eta \u001b[36m0:00:00\u001b[0m00:01\u001b[0m\n",
      "\u001b[?25hCollecting transformers\n",
      "  Downloading transformers-4.21.2-py3-none-any.whl (4.7 MB)\n",
      "\u001b[2K     \u001b[90m━━━━━━━━━━━━━━━━━━━━━━━━━━━━━━━━━━━━━━━━\u001b[0m \u001b[32m4.7/4.7 MB\u001b[0m \u001b[31m26.7 MB/s\u001b[0m eta \u001b[36m0:00:00\u001b[0m:00:01\u001b[0m\n",
      "\u001b[?25hCollecting huggingface-hub<1.0.0,>=0.1.0\n",
      "  Downloading huggingface_hub-0.9.1-py3-none-any.whl (120 kB)\n",
      "\u001b[2K     \u001b[90m━━━━━━━━━━━━━━━━━━━━━━━━━━━━━━━━━━━━━━\u001b[0m \u001b[32m120.7/120.7 KB\u001b[0m \u001b[31m24.8 MB/s\u001b[0m eta \u001b[36m0:00:00\u001b[0m\n",
      "\u001b[?25hRequirement already satisfied: packaging in /home/ec2-user/anaconda3/envs/python3/lib/python3.8/site-packages (from datasets) (21.3)\n",
      "Collecting responses<0.19\n",
      "  Downloading responses-0.18.0-py3-none-any.whl (38 kB)\n",
      "Requirement already satisfied: aiohttp in /home/ec2-user/anaconda3/envs/python3/lib/python3.8/site-packages (from datasets) (3.8.1)\n",
      "Requirement already satisfied: dill<0.3.6 in /home/ec2-user/anaconda3/envs/python3/lib/python3.8/site-packages (from datasets) (0.3.4)\n",
      "Requirement already satisfied: requests>=2.19.0 in /home/ec2-user/anaconda3/envs/python3/lib/python3.8/site-packages (from datasets) (2.26.0)\n",
      "Requirement already satisfied: fsspec[http]>=2021.11.1 in /home/ec2-user/anaconda3/envs/python3/lib/python3.8/site-packages (from datasets) (2021.11.1)\n",
      "Requirement already satisfied: multiprocess in /home/ec2-user/anaconda3/envs/python3/lib/python3.8/site-packages (from datasets) (0.70.12.2)\n",
      "Requirement already satisfied: pyarrow>=6.0.0 in /home/ec2-user/anaconda3/envs/python3/lib/python3.8/site-packages (from datasets) (7.0.0)\n",
      "Requirement already satisfied: pandas in /home/ec2-user/anaconda3/envs/python3/lib/python3.8/site-packages (from datasets) (1.3.4)\n",
      "Requirement already satisfied: tqdm>=4.62.1 in /home/ec2-user/anaconda3/envs/python3/lib/python3.8/site-packages (from datasets) (4.62.3)\n",
      "Requirement already satisfied: numpy>=1.17 in /home/ec2-user/anaconda3/envs/python3/lib/python3.8/site-packages (from datasets) (1.20.3)\n",
      "Collecting xxhash\n",
      "  Downloading xxhash-3.0.0-cp38-cp38-manylinux_2_17_x86_64.manylinux2014_x86_64.whl (212 kB)\n",
      "\u001b[2K     \u001b[90m━━━━━━━━━━━━━━━━━━━━━━━━━━━━━━━━━━━━━━━\u001b[0m \u001b[32m212.1/212.1 KB\u001b[0m \u001b[31m5.3 MB/s\u001b[0m eta \u001b[36m0:00:00\u001b[0ma \u001b[36m0:00:01\u001b[0m\n",
      "\u001b[?25hRequirement already satisfied: pyyaml>=5.1 in /home/ec2-user/anaconda3/envs/python3/lib/python3.8/site-packages (from transformers) (5.4.1)\n",
      "Collecting tokenizers!=0.11.3,<0.13,>=0.11.1\n",
      "  Downloading tokenizers-0.12.1-cp38-cp38-manylinux_2_12_x86_64.manylinux2010_x86_64.whl (6.6 MB)\n",
      "\u001b[2K     \u001b[90m━━━━━━━━━━━━━━━━━━━━━━━━━━━━━━━━━━━━━━━━\u001b[0m \u001b[32m6.6/6.6 MB\u001b[0m \u001b[31m96.6 MB/s\u001b[0m eta \u001b[36m0:00:00\u001b[0m:00:01\u001b[0m\n",
      "\u001b[?25hRequirement already satisfied: filelock in /home/ec2-user/anaconda3/envs/python3/lib/python3.8/site-packages (from transformers) (3.4.0)\n",
      "Requirement already satisfied: regex!=2019.12.17 in /home/ec2-user/anaconda3/envs/python3/lib/python3.8/site-packages (from transformers) (2021.11.10)\n",
      "Requirement already satisfied: typing-extensions>=3.7.4.3 in /home/ec2-user/anaconda3/envs/python3/lib/python3.8/site-packages (from huggingface-hub<1.0.0,>=0.1.0->datasets) (4.0.0)\n",
      "Requirement already satisfied: pyparsing!=3.0.5,>=2.0.2 in /home/ec2-user/anaconda3/envs/python3/lib/python3.8/site-packages (from packaging->datasets) (3.0.6)\n",
      "Requirement already satisfied: urllib3<1.27,>=1.21.1 in /home/ec2-user/anaconda3/envs/python3/lib/python3.8/site-packages (from requests>=2.19.0->datasets) (1.26.8)\n",
      "Requirement already satisfied: idna<4,>=2.5 in /home/ec2-user/anaconda3/envs/python3/lib/python3.8/site-packages (from requests>=2.19.0->datasets) (3.1)\n",
      "Requirement already satisfied: certifi>=2017.4.17 in /home/ec2-user/anaconda3/envs/python3/lib/python3.8/site-packages (from requests>=2.19.0->datasets) (2021.10.8)\n",
      "Requirement already satisfied: charset-normalizer~=2.0.0 in /home/ec2-user/anaconda3/envs/python3/lib/python3.8/site-packages (from requests>=2.19.0->datasets) (2.0.8)\n",
      "Requirement already satisfied: multidict<7.0,>=4.5 in /home/ec2-user/anaconda3/envs/python3/lib/python3.8/site-packages (from aiohttp->datasets) (5.2.0)\n",
      "Requirement already satisfied: aiosignal>=1.1.2 in /home/ec2-user/anaconda3/envs/python3/lib/python3.8/site-packages (from aiohttp->datasets) (1.2.0)\n",
      "Requirement already satisfied: yarl<2.0,>=1.0 in /home/ec2-user/anaconda3/envs/python3/lib/python3.8/site-packages (from aiohttp->datasets) (1.7.2)\n",
      "Requirement already satisfied: frozenlist>=1.1.1 in /home/ec2-user/anaconda3/envs/python3/lib/python3.8/site-packages (from aiohttp->datasets) (1.2.0)\n",
      "Requirement already satisfied: async-timeout<5.0,>=4.0.0a3 in /home/ec2-user/anaconda3/envs/python3/lib/python3.8/site-packages (from aiohttp->datasets) (4.0.1)\n",
      "Requirement already satisfied: attrs>=17.3.0 in /home/ec2-user/anaconda3/envs/python3/lib/python3.8/site-packages (from aiohttp->datasets) (21.2.0)\n",
      "Requirement already satisfied: python-dateutil>=2.7.3 in /home/ec2-user/anaconda3/envs/python3/lib/python3.8/site-packages (from pandas->datasets) (2.8.2)\n",
      "Requirement already satisfied: pytz>=2017.3 in /home/ec2-user/anaconda3/envs/python3/lib/python3.8/site-packages (from pandas->datasets) (2021.3)\n",
      "Requirement already satisfied: six>=1.5 in /home/ec2-user/anaconda3/envs/python3/lib/python3.8/site-packages (from python-dateutil>=2.7.3->pandas->datasets) (1.16.0)\n",
      "Installing collected packages: tokenizers, xxhash, responses, huggingface-hub, transformers, datasets\n",
      "Successfully installed datasets-2.4.0 huggingface-hub-0.9.1 responses-0.18.0 tokenizers-0.12.1 transformers-4.21.2 xxhash-3.0.0\n",
      "\u001b[33mWARNING: You are using pip version 22.0.4; however, version 22.2.2 is available.\n",
      "You should consider upgrading via the '/home/ec2-user/anaconda3/envs/python3/bin/python -m pip install --upgrade pip' command.\u001b[0m\u001b[33m\n",
      "\u001b[0m"
     ]
    }
   ],
   "source": [
    "!pip install datasets transformers"
   ]
  },
  {
   "cell_type": "code",
   "execution_count": 2,
   "id": "977dd47d",
   "metadata": {},
   "outputs": [],
   "source": [
    "bucket = 'unspsc-data'\n",
    "key = 'data.zip'"
   ]
  },
  {
   "cell_type": "code",
   "execution_count": 3,
   "id": "72a0817b",
   "metadata": {},
   "outputs": [
    {
     "name": "stdout",
     "output_type": "stream",
     "text": [
      "download: s3://unspsc-data/data.zip to ./data.zip                   \n"
     ]
    }
   ],
   "source": [
    "!aws s3 cp s3://{bucket}/{key} {key}"
   ]
  },
  {
   "cell_type": "code",
   "execution_count": 4,
   "id": "1b797059",
   "metadata": {},
   "outputs": [
    {
     "name": "stdout",
     "output_type": "stream",
     "text": [
      "Archive:  data.zip\n",
      "   creating: data/\n",
      "   creating: data/canada/\n",
      "  inflating: data/canada/nibs-gsin.csv  \n",
      "  inflating: data/canada/tpsgc-pwgsc_aa-a.csv  \n",
      "   creating: data/california/\n",
      "  inflating: data/california/purchase-order-data-2012-2015-.csv  \n",
      "   creating: data/codes/\n",
      "  inflating: data/codes/data-unspsc-codes.csv  \n",
      "   creating: data/australia/\n",
      "  inflating: data/australia/2016-2017-australian-government-contract-data.csv  \n",
      "  inflating: data/australia/17-18-fy-dataset.csv  \n",
      "  inflating: data/australia/20152016-fy-austender-cns.zip  \n",
      "  inflating: data/australia/2019-20-australian-government-contract-data.xlsx  \n",
      "  inflating: data/australia/20142015fy.csv  \n"
     ]
    }
   ],
   "source": [
    "!unzip data.zip"
   ]
  },
  {
   "cell_type": "code",
   "execution_count": 10,
   "id": "d16a1799",
   "metadata": {},
   "outputs": [],
   "source": [
    "import pandas as pd\n",
    "import numpy as np\n",
    "import openpyxl\n",
    "import sagemaker\n",
    "import boto3"
   ]
  },
  {
   "cell_type": "markdown",
   "id": "671e0e41",
   "metadata": {},
   "source": [
    "# Read in the Code Data"
   ]
  },
  {
   "cell_type": "code",
   "execution_count": 12,
   "id": "c43a1cd2",
   "metadata": {},
   "outputs": [],
   "source": [
    "codes = pd.read_csv('data/codes/data-unspsc-codes.csv', encoding='latin-1')"
   ]
  },
  {
   "cell_type": "code",
   "execution_count": 13,
   "id": "69d47db0",
   "metadata": {},
   "outputs": [
    {
     "data": {
      "text/html": [
       "<div>\n",
       "<style scoped>\n",
       "    .dataframe tbody tr th:only-of-type {\n",
       "        vertical-align: middle;\n",
       "    }\n",
       "\n",
       "    .dataframe tbody tr th {\n",
       "        vertical-align: top;\n",
       "    }\n",
       "\n",
       "    .dataframe thead th {\n",
       "        text-align: right;\n",
       "    }\n",
       "</style>\n",
       "<table border=\"1\" class=\"dataframe\">\n",
       "  <thead>\n",
       "    <tr style=\"text-align: right;\">\n",
       "      <th></th>\n",
       "      <th>Segment</th>\n",
       "      <th>Segment Name</th>\n",
       "      <th>Family</th>\n",
       "      <th>Family Name</th>\n",
       "      <th>Class</th>\n",
       "      <th>Class Name</th>\n",
       "      <th>Commodity</th>\n",
       "      <th>Commodity Name</th>\n",
       "    </tr>\n",
       "  </thead>\n",
       "  <tbody>\n",
       "    <tr>\n",
       "      <th>0</th>\n",
       "      <td>10000000</td>\n",
       "      <td>Live Plant and Animal Material and Accessories...</td>\n",
       "      <td>10100000</td>\n",
       "      <td>Live animals</td>\n",
       "      <td>10101500</td>\n",
       "      <td>Livestock</td>\n",
       "      <td>10101501</td>\n",
       "      <td>Cats</td>\n",
       "    </tr>\n",
       "    <tr>\n",
       "      <th>1</th>\n",
       "      <td>10000000</td>\n",
       "      <td>Live Plant and Animal Material and Accessories...</td>\n",
       "      <td>10100000</td>\n",
       "      <td>Live animals</td>\n",
       "      <td>10101500</td>\n",
       "      <td>Livestock</td>\n",
       "      <td>10101502</td>\n",
       "      <td>Dogs</td>\n",
       "    </tr>\n",
       "    <tr>\n",
       "      <th>2</th>\n",
       "      <td>10000000</td>\n",
       "      <td>Live Plant and Animal Material and Accessories...</td>\n",
       "      <td>10100000</td>\n",
       "      <td>Live animals</td>\n",
       "      <td>10101500</td>\n",
       "      <td>Livestock</td>\n",
       "      <td>10101504</td>\n",
       "      <td>Mink</td>\n",
       "    </tr>\n",
       "    <tr>\n",
       "      <th>3</th>\n",
       "      <td>10000000</td>\n",
       "      <td>Live Plant and Animal Material and Accessories...</td>\n",
       "      <td>10100000</td>\n",
       "      <td>Live animals</td>\n",
       "      <td>10101500</td>\n",
       "      <td>Livestock</td>\n",
       "      <td>10101505</td>\n",
       "      <td>Rats</td>\n",
       "    </tr>\n",
       "    <tr>\n",
       "      <th>4</th>\n",
       "      <td>10000000</td>\n",
       "      <td>Live Plant and Animal Material and Accessories...</td>\n",
       "      <td>10100000</td>\n",
       "      <td>Live animals</td>\n",
       "      <td>10101500</td>\n",
       "      <td>Livestock</td>\n",
       "      <td>10101506</td>\n",
       "      <td>Horses</td>\n",
       "    </tr>\n",
       "  </tbody>\n",
       "</table>\n",
       "</div>"
      ],
      "text/plain": [
       "    Segment                                       Segment Name    Family  \\\n",
       "0  10000000  Live Plant and Animal Material and Accessories...  10100000   \n",
       "1  10000000  Live Plant and Animal Material and Accessories...  10100000   \n",
       "2  10000000  Live Plant and Animal Material and Accessories...  10100000   \n",
       "3  10000000  Live Plant and Animal Material and Accessories...  10100000   \n",
       "4  10000000  Live Plant and Animal Material and Accessories...  10100000   \n",
       "\n",
       "    Family Name     Class Class Name  Commodity Commodity Name  \n",
       "0  Live animals  10101500  Livestock   10101501           Cats  \n",
       "1  Live animals  10101500  Livestock   10101502           Dogs  \n",
       "2  Live animals  10101500  Livestock   10101504           Mink  \n",
       "3  Live animals  10101500  Livestock   10101505           Rats  \n",
       "4  Live animals  10101500  Livestock   10101506         Horses  "
      ]
     },
     "execution_count": 13,
     "metadata": {},
     "output_type": "execute_result"
    }
   ],
   "source": [
    "codes.head()"
   ]
  },
  {
   "cell_type": "code",
   "execution_count": 14,
   "id": "fa898c4b",
   "metadata": {},
   "outputs": [
    {
     "data": {
      "text/plain": [
       "Segment            int64\n",
       "Segment Name      object\n",
       "Family             int64\n",
       "Family Name       object\n",
       "Class              int64\n",
       "Class Name        object\n",
       "Commodity          int64\n",
       "Commodity Name    object\n",
       "dtype: object"
      ]
     },
     "execution_count": 14,
     "metadata": {},
     "output_type": "execute_result"
    }
   ],
   "source": [
    "codes.dtypes"
   ]
  },
  {
   "cell_type": "code",
   "execution_count": 16,
   "id": "84c2a930",
   "metadata": {},
   "outputs": [
    {
     "data": {
      "text/plain": [
       "['Family', 'Class', 'Commodity']"
      ]
     },
     "execution_count": 16,
     "metadata": {},
     "output_type": "execute_result"
    }
   ],
   "source": [
    "index_columns = ['Segment', 'Segment Name']\n",
    "column_list = ['Family Name', 'Class Name', 'Commodity Name']\n",
    "\n",
    "[column for column in codes.columns if ((column not in column_list) and (column not in index_columns))]"
   ]
  },
  {
   "cell_type": "code",
   "execution_count": 19,
   "id": "2041f8f4",
   "metadata": {},
   "outputs": [],
   "source": [
    "def concatenate_and_remove(df: pd.DataFrame, column_list: list, index_columns: list) -> pd.DataFrame:\n",
    "    \n",
    "    #drop columns we don't want\n",
    "    df = (df[column_list+index_columns]\n",
    "          .assign(output_field = ''))\n",
    "    \n",
    "    for column in column_list:\n",
    "        df['output_field'] += df[column].str.lower() + ' '\n",
    "    \n",
    "    df = df[index_columns + ['output_field']]\n",
    "    \n",
    "    return df\n",
    "    \n",
    "    \n",
    "    "
   ]
  },
  {
   "cell_type": "code",
   "execution_count": 21,
   "id": "e230e4cc",
   "metadata": {},
   "outputs": [],
   "source": [
    "cleaned_df = codes.pipe(concatenate_and_remove, column_list, index_columns)"
   ]
  },
  {
   "cell_type": "code",
   "execution_count": 22,
   "id": "3e0ffcf8",
   "metadata": {},
   "outputs": [
    {
     "data": {
      "text/html": [
       "<div>\n",
       "<style scoped>\n",
       "    .dataframe tbody tr th:only-of-type {\n",
       "        vertical-align: middle;\n",
       "    }\n",
       "\n",
       "    .dataframe tbody tr th {\n",
       "        vertical-align: top;\n",
       "    }\n",
       "\n",
       "    .dataframe thead th {\n",
       "        text-align: right;\n",
       "    }\n",
       "</style>\n",
       "<table border=\"1\" class=\"dataframe\">\n",
       "  <thead>\n",
       "    <tr style=\"text-align: right;\">\n",
       "      <th></th>\n",
       "      <th>Segment</th>\n",
       "      <th>Segment Name</th>\n",
       "      <th>output_field</th>\n",
       "    </tr>\n",
       "  </thead>\n",
       "  <tbody>\n",
       "    <tr>\n",
       "      <th>0</th>\n",
       "      <td>10000000</td>\n",
       "      <td>Live Plant and Animal Material and Accessories...</td>\n",
       "      <td>live animals livestock cats</td>\n",
       "    </tr>\n",
       "    <tr>\n",
       "      <th>1</th>\n",
       "      <td>10000000</td>\n",
       "      <td>Live Plant and Animal Material and Accessories...</td>\n",
       "      <td>live animals livestock dogs</td>\n",
       "    </tr>\n",
       "    <tr>\n",
       "      <th>2</th>\n",
       "      <td>10000000</td>\n",
       "      <td>Live Plant and Animal Material and Accessories...</td>\n",
       "      <td>live animals livestock mink</td>\n",
       "    </tr>\n",
       "    <tr>\n",
       "      <th>3</th>\n",
       "      <td>10000000</td>\n",
       "      <td>Live Plant and Animal Material and Accessories...</td>\n",
       "      <td>live animals livestock rats</td>\n",
       "    </tr>\n",
       "    <tr>\n",
       "      <th>4</th>\n",
       "      <td>10000000</td>\n",
       "      <td>Live Plant and Animal Material and Accessories...</td>\n",
       "      <td>live animals livestock horses</td>\n",
       "    </tr>\n",
       "  </tbody>\n",
       "</table>\n",
       "</div>"
      ],
      "text/plain": [
       "    Segment                                       Segment Name  \\\n",
       "0  10000000  Live Plant and Animal Material and Accessories...   \n",
       "1  10000000  Live Plant and Animal Material and Accessories...   \n",
       "2  10000000  Live Plant and Animal Material and Accessories...   \n",
       "3  10000000  Live Plant and Animal Material and Accessories...   \n",
       "4  10000000  Live Plant and Animal Material and Accessories...   \n",
       "\n",
       "                     output_field  \n",
       "0    live animals livestock cats   \n",
       "1    live animals livestock dogs   \n",
       "2    live animals livestock mink   \n",
       "3    live animals livestock rats   \n",
       "4  live animals livestock horses   "
      ]
     },
     "execution_count": 22,
     "metadata": {},
     "output_type": "execute_result"
    }
   ],
   "source": [
    "cleaned_df.head()"
   ]
  },
  {
   "cell_type": "code",
   "execution_count": null,
   "id": "938e740d",
   "metadata": {},
   "outputs": [],
   "source": []
  },
  {
   "cell_type": "code",
   "execution_count": null,
   "id": "c256a28f",
   "metadata": {},
   "outputs": [],
   "source": []
  },
  {
   "cell_type": "code",
   "execution_count": 6,
   "id": "371e224b",
   "metadata": {},
   "outputs": [],
   "source": [
    "au_1415 = pd.read_csv('data/australia/20142015fy.csv')"
   ]
  },
  {
   "cell_type": "code",
   "execution_count": 8,
   "id": "d814ae63",
   "metadata": {},
   "outputs": [
    {
     "data": {
      "text/plain": [
       "Agency Name                         object\n",
       "Parent Contract ID                  object\n",
       "Contract ID                         object\n",
       "Publish Date                        object\n",
       "AmendmentDate                       object\n",
       "Start Date                          object\n",
       "End Date                            object\n",
       "Value                              float64\n",
       "Description                         object\n",
       "Agency Ref ID                       object\n",
       "UNSPSC Code                          int64\n",
       "Title                               object\n",
       "Procurement Method                  object\n",
       "TenderNumber                        object\n",
       "SON ID                              object\n",
       "Confidentiality Contract Flag       object\n",
       "Confidentiality Contract Reason     object\n",
       "Confidentiality Outputs Flag        object\n",
       "Confidentiality Outputs Reason      object\n",
       "Consultancy Flag                    object\n",
       "Consultancy Reason                  object\n",
       "Amendment Reason                    object\n",
       "Supplier Name                       object\n",
       "SupplierAddress                     object\n",
       "SupplierSuburb                      object\n",
       "Supplier Postcode                   object\n",
       "Supplier Country                    object\n",
       "Supplier ABN Exempt                 object\n",
       "ABN                                float64\n",
       "Contact Name                        object\n",
       "Contact Phone                       object\n",
       "Branch                              object\n",
       "Division                            object\n",
       "Office Postcode                     object\n",
       "dtype: object"
      ]
     },
     "execution_count": 8,
     "metadata": {},
     "output_type": "execute_result"
    }
   ],
   "source": [
    "au_1415.dtypes"
   ]
  },
  {
   "cell_type": "code",
   "execution_count": 9,
   "id": "255d906d",
   "metadata": {},
   "outputs": [
    {
     "data": {
      "text/plain": [
       "0        82151500\n",
       "1        82130000\n",
       "2        81112000\n",
       "3        25200000\n",
       "4        80100000\n",
       "           ...   \n",
       "69231    80111600\n",
       "69232    43230000\n",
       "69233    81112200\n",
       "69234    43210000\n",
       "69235    84111600\n",
       "Name: UNSPSC Code, Length: 69236, dtype: int64"
      ]
     },
     "execution_count": 9,
     "metadata": {},
     "output_type": "execute_result"
    }
   ],
   "source": [
    "au_1415['UNSPSC Code']"
   ]
  },
  {
   "cell_type": "code",
   "execution_count": null,
   "id": "ec869d24",
   "metadata": {},
   "outputs": [],
   "source": []
  }
 ],
 "metadata": {
  "kernelspec": {
   "display_name": "conda_python3",
   "language": "python",
   "name": "conda_python3"
  },
  "language_info": {
   "codemirror_mode": {
    "name": "ipython",
    "version": 3
   },
   "file_extension": ".py",
   "mimetype": "text/x-python",
   "name": "python",
   "nbconvert_exporter": "python",
   "pygments_lexer": "ipython3",
   "version": "3.8.12"
  }
 },
 "nbformat": 4,
 "nbformat_minor": 5
}
