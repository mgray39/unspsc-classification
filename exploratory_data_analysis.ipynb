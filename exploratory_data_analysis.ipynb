{
 "cells": [
  {
   "cell_type": "code",
   "execution_count": 1,
   "id": "9de7b66d",
   "metadata": {},
   "outputs": [],
   "source": [
    "import pandas as pd\n",
    "import numpy as np"
   ]
  },
  {
   "cell_type": "code",
   "execution_count": 2,
   "id": "3385af91",
   "metadata": {},
   "outputs": [],
   "source": [
    "import matplotlib.pyplot as plt\n",
    "import seaborn as sns"
   ]
  },
  {
   "cell_type": "code",
   "execution_count": 3,
   "id": "e09cdfaa",
   "metadata": {},
   "outputs": [],
   "source": [
    "prepared_data = pd.read_csv('./prepared_data/train.csv')"
   ]
  },
  {
   "cell_type": "code",
   "execution_count": 4,
   "id": "dfd3b4c2",
   "metadata": {},
   "outputs": [
    {
     "data": {
      "text/html": [
       "<div>\n",
       "<style scoped>\n",
       "    .dataframe tbody tr th:only-of-type {\n",
       "        vertical-align: middle;\n",
       "    }\n",
       "\n",
       "    .dataframe tbody tr th {\n",
       "        vertical-align: top;\n",
       "    }\n",
       "\n",
       "    .dataframe thead th {\n",
       "        text-align: right;\n",
       "    }\n",
       "</style>\n",
       "<table border=\"1\" class=\"dataframe\">\n",
       "  <thead>\n",
       "    <tr style=\"text-align: right;\">\n",
       "      <th></th>\n",
       "      <th>label_name</th>\n",
       "      <th>description</th>\n",
       "      <th>label</th>\n",
       "    </tr>\n",
       "  </thead>\n",
       "  <tbody>\n",
       "    <tr>\n",
       "      <th>0</th>\n",
       "      <td>44000000</td>\n",
       "      <td>toner cartridge  magenta toner cartridge  magenta</td>\n",
       "      <td>22</td>\n",
       "    </tr>\n",
       "    <tr>\n",
       "      <th>1</th>\n",
       "      <td>53000000</td>\n",
       "      <td>bra 38dd bra 38dd</td>\n",
       "      <td>31</td>\n",
       "    </tr>\n",
       "    <tr>\n",
       "      <th>2</th>\n",
       "      <td>43000000</td>\n",
       "      <td>computer equipment and accessories computers n...</td>\n",
       "      <td>21</td>\n",
       "    </tr>\n",
       "    <tr>\n",
       "      <th>3</th>\n",
       "      <td>30000000</td>\n",
       "      <td>swing doors swing doors</td>\n",
       "      <td>14</td>\n",
       "    </tr>\n",
       "    <tr>\n",
       "      <th>4</th>\n",
       "      <td>83000000</td>\n",
       "      <td>labour hire</td>\n",
       "      <td>47</td>\n",
       "    </tr>\n",
       "  </tbody>\n",
       "</table>\n",
       "</div>"
      ],
      "text/plain": [
       "   label_name                                        description  label\n",
       "0    44000000  toner cartridge  magenta toner cartridge  magenta     22\n",
       "1    53000000                                  bra 38dd bra 38dd     31\n",
       "2    43000000  computer equipment and accessories computers n...     21\n",
       "3    30000000                            swing doors swing doors     14\n",
       "4    83000000                                        labour hire     47"
      ]
     },
     "execution_count": 4,
     "metadata": {},
     "output_type": "execute_result"
    }
   ],
   "source": [
    "prepared_data.head()"
   ]
  },
  {
   "cell_type": "markdown",
   "id": "639fac37",
   "metadata": {},
   "source": [
    "## Number of Words in Prepared Data"
   ]
  },
  {
   "cell_type": "code",
   "execution_count": 5,
   "id": "6935f869",
   "metadata": {},
   "outputs": [],
   "source": [
    "prepared_data = prepared_data.assign(number_of_words = lambda df: df['description'].str.split().str.len())"
   ]
  },
  {
   "cell_type": "code",
   "execution_count": 6,
   "id": "cd64a267",
   "metadata": {},
   "outputs": [
    {
     "data": {
      "image/png": "[encoded data removed]",
      "text/plain": [
       "<Figure size 432x288 with 1 Axes>"
      ]
     },
     "metadata": {
      "needs_background": "light"
     },
     "output_type": "display_data"
    }
   ],
   "source": [
    "ax = sns.histplot(data=prepared_data, x='number_of_words', binwidth=1)"
   ]
  },
  {
   "cell_type": "markdown",
   "id": "8358bda5",
   "metadata": {},
   "source": [
    "From the above we can see that most of the data has many fewer than 100 words. Let's look at things with fewer than 128 words. Certainly the vast majority of records have fewer than this amount of words."
   ]
  },
  {
   "cell_type": "code",
   "execution_count": 7,
   "id": "ea962609",
   "metadata": {},
   "outputs": [
    {
     "data": {
      "image/png": "[encoded data removed]",
      "text/plain": [
       "<Figure size 432x288 with 1 Axes>"
      ]
     },
     "metadata": {
      "needs_background": "light"
     },
     "output_type": "display_data"
    }
   ],
   "source": [
    "ax2 = sns.histplot(data=(prepared_data\n",
    "                         .query('number_of_words<=128')), \n",
    "                   x='number_of_words', \n",
    "                   binwidth=1) "
   ]
  },
  {
   "cell_type": "markdown",
   "id": "2c9e3473",
   "metadata": {},
   "source": [
    "The power of thigns like sentence transformers is in the ability of them to embed context when examining sequence data in their trained domain.\n",
    "\n",
    "As a result, very short sequences may be a limited training value as these will contain limited sequence information. "
   ]
  },
  {
   "cell_type": "code",
   "execution_count": 8,
   "id": "5df04e42",
   "metadata": {},
   "outputs": [
    {
     "data": {
      "text/plain": [
       "2    0.126674\n",
       "3    0.083111\n",
       "1    0.010730\n",
       "Name: number_of_words, dtype: float64"
      ]
     },
     "execution_count": 8,
     "metadata": {},
     "output_type": "execute_result"
    }
   ],
   "source": [
    "prepared_data.query('number_of_words<=3')['number_of_words'].value_counts()/len(prepared_data)"
   ]
  },
  {
   "cell_type": "code",
   "execution_count": 9,
   "id": "2cdae214",
   "metadata": {},
   "outputs": [
    {
     "data": {
      "text/plain": [
       "0.22051584205403754"
      ]
     },
     "execution_count": 9,
     "metadata": {},
     "output_type": "execute_result"
    }
   ],
   "source": [
    "(prepared_data.query('number_of_words<=3')['number_of_words'].value_counts()/len(prepared_data)).sum()"
   ]
  },
  {
   "cell_type": "markdown",
   "id": "5a2d278d",
   "metadata": {},
   "source": [
    "Around 1% of descriptions contain only 1 word. While this is not ideal, it is probably not likely to significantly alter the performance of the model. Sequences which contain 3 or fewer words make up 22% of the training set. This may need to be addressed if the model fails to perform in production.\n",
    "\n",
    "It is likely acceptable to trim sequences of more than 128 words. It is likely not a problem to trim the sequences to 64 words without a significant loss in information"
   ]
  },
  {
   "cell_type": "code",
   "execution_count": 10,
   "id": "aa832a26",
   "metadata": {},
   "outputs": [
    {
     "data": {
      "text/plain": [
       "6.0"
      ]
     },
     "execution_count": 10,
     "metadata": {},
     "output_type": "execute_result"
    }
   ],
   "source": [
    "np.median(prepared_data['number_of_words'])"
   ]
  },
  {
   "cell_type": "code",
   "execution_count": 11,
   "id": "577296a8",
   "metadata": {},
   "outputs": [
    {
     "data": {
      "text/plain": [
       "0    4\n",
       "dtype: int64"
      ]
     },
     "execution_count": 11,
     "metadata": {},
     "output_type": "execute_result"
    }
   ],
   "source": [
    "prepared_data['number_of_words'].mode()"
   ]
  },
  {
   "cell_type": "code",
   "execution_count": 12,
   "id": "a18e9053",
   "metadata": {},
   "outputs": [
    {
     "data": {
      "text/plain": [
       "0.00043435944048069114"
      ]
     },
     "execution_count": 12,
     "metadata": {},
     "output_type": "execute_result"
    }
   ],
   "source": [
    "(prepared_data['number_of_words']>128).sum()/len(prepared_data['number_of_words'])"
   ]
  },
  {
   "cell_type": "markdown",
   "id": "9caff240",
   "metadata": {},
   "source": [
    "# Class Imbalance in Prepared Data"
   ]
  },
  {
   "cell_type": "code",
   "execution_count": 55,
   "id": "68b40bc0",
   "metadata": {},
   "outputs": [],
   "source": [
    "class_count_df = (prepared_data['label_name']\n",
    "                  .value_counts()\n",
    "                  .reset_index()\n",
    "                  .rename(columns = {'index': 'segment',\n",
    "                                     'label_name': 'segment_count'}))"
   ]
  },
  {
   "cell_type": "code",
   "execution_count": 56,
   "id": "9aa043af",
   "metadata": {},
   "outputs": [
    {
     "data": {
      "text/html": [
       "<div>\n",
       "<style scoped>\n",
       "    .dataframe tbody tr th:only-of-type {\n",
       "        vertical-align: middle;\n",
       "    }\n",
       "\n",
       "    .dataframe tbody tr th {\n",
       "        vertical-align: top;\n",
       "    }\n",
       "\n",
       "    .dataframe thead th {\n",
       "        text-align: right;\n",
       "    }\n",
       "</style>\n",
       "<table border=\"1\" class=\"dataframe\">\n",
       "  <thead>\n",
       "    <tr style=\"text-align: right;\">\n",
       "      <th></th>\n",
       "      <th>segment</th>\n",
       "      <th>segment_count</th>\n",
       "    </tr>\n",
       "  </thead>\n",
       "  <tbody>\n",
       "    <tr>\n",
       "      <th>0</th>\n",
       "      <td>80000000</td>\n",
       "      <td>55478</td>\n",
       "    </tr>\n",
       "    <tr>\n",
       "      <th>1</th>\n",
       "      <td>50000000</td>\n",
       "      <td>48764</td>\n",
       "    </tr>\n",
       "    <tr>\n",
       "      <th>2</th>\n",
       "      <td>43000000</td>\n",
       "      <td>40913</td>\n",
       "    </tr>\n",
       "    <tr>\n",
       "      <th>3</th>\n",
       "      <td>81000000</td>\n",
       "      <td>33755</td>\n",
       "    </tr>\n",
       "    <tr>\n",
       "      <th>4</th>\n",
       "      <td>25000000</td>\n",
       "      <td>26388</td>\n",
       "    </tr>\n",
       "  </tbody>\n",
       "</table>\n",
       "</div>"
      ],
      "text/plain": [
       "    segment  segment_count\n",
       "0  80000000          55478\n",
       "1  50000000          48764\n",
       "2  43000000          40913\n",
       "3  81000000          33755\n",
       "4  25000000          26388"
      ]
     },
     "execution_count": 56,
     "metadata": {},
     "output_type": "execute_result"
    }
   ],
   "source": [
    "class_count_df.head()"
   ]
  },
  {
   "cell_type": "code",
   "execution_count": 57,
   "id": "2789ded2",
   "metadata": {},
   "outputs": [
    {
     "data": {
      "image/png": "[encoded data removed]",
      "text/plain": [
       "<Figure size 432x288 with 1 Axes>"
      ]
     },
     "metadata": {
      "needs_background": "light"
     },
     "output_type": "display_data"
    }
   ],
   "source": [
    "ax3 = sns.histplot(data=(class_count_df), \n",
    "                   x='segment_count', \n",
    "                   bins=40) "
   ]
  },
  {
   "cell_type": "markdown",
   "id": "9b3ed701",
   "metadata": {},
   "source": [
    "We can see that the number of segment the majority of classes have fewer than 10000 members."
   ]
  },
  {
   "cell_type": "code",
   "execution_count": 59,
   "id": "6794bc96",
   "metadata": {},
   "outputs": [
    {
     "data": {
      "text/plain": [
       "count       57.000000\n",
       "mean      8724.280702\n",
       "std      11568.188890\n",
       "min         85.000000\n",
       "25%       2365.000000\n",
       "50%       4530.000000\n",
       "75%       9162.000000\n",
       "max      55478.000000\n",
       "Name: segment_count, dtype: float64"
      ]
     },
     "execution_count": 59,
     "metadata": {},
     "output_type": "execute_result"
    }
   ],
   "source": [
    "class_count_df['segment_count'].describe()"
   ]
  },
  {
   "cell_type": "markdown",
   "id": "be3d95d7",
   "metadata": {},
   "source": [
    "The description information for segment_count indicates that the minimum value is 85 members of a class and the maximum is 55478. \n",
    "\n",
    "A class imbalance spanning 4 orders of magnitude is too great to be accepted. Class rebalancing in some form will need to be pursued."
   ]
  },
  {
   "cell_type": "code",
   "execution_count": null,
   "id": "e42ecf28",
   "metadata": {},
   "outputs": [],
   "source": []
  }
 ],
 "metadata": {
  "kernelspec": {
   "display_name": "conda_python3",
   "language": "python",
   "name": "conda_python3"
  },
  "language_info": {
   "codemirror_mode": {
    "name": "ipython",
    "version": 3
   },
   "file_extension": ".py",
   "mimetype": "text/x-python",
   "name": "python",
   "nbconvert_exporter": "python",
   "pygments_lexer": "ipython3",
   "version": "3.8.12"
  }
 },
 "nbformat": 4,
 "nbformat_minor": 5
}
